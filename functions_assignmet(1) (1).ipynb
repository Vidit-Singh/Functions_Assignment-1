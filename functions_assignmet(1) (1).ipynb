{
 "cells": [
  {
   "cell_type": "markdown",
   "id": "7f09adb1-568e-48b6-b287-26b19f1fde32",
   "metadata": {},
   "source": [
    "# Q1. Which keyword is used to create a function? Create a function to return a list of odd numbers in the range of 1 to 25."
   ]
  },
  {
   "cell_type": "code",
   "execution_count": 1,
   "id": "0799794d-6a2d-4891-bc1a-281f9531d982",
   "metadata": {},
   "outputs": [],
   "source": [
    "#Answer : def keyword is used to create a function.\n",
    "\n",
    "def test():\n",
    "    l1 = []\n",
    "    for i in range(1,25):\n",
    "        if i%2!=0:\n",
    "            l1.append(i)\n",
    "    return l1   "
   ]
  },
  {
   "cell_type": "code",
   "execution_count": 2,
   "id": "944ffbcc-3794-4f45-b3bb-ad5cb4d4c06c",
   "metadata": {},
   "outputs": [
    {
     "data": {
      "text/plain": [
       "[1, 3, 5, 7, 9, 11, 13, 15, 17, 19, 21, 23]"
      ]
     },
     "execution_count": 2,
     "metadata": {},
     "output_type": "execute_result"
    }
   ],
   "source": [
    "test()"
   ]
  },
  {
   "cell_type": "code",
   "execution_count": null,
   "id": "24967f2c-6260-4d84-8f8d-5ab410cc8a07",
   "metadata": {},
   "outputs": [],
   "source": []
  },
  {
   "cell_type": "markdown",
   "id": "c2bf77b5-d923-4f9c-a64d-813329fd82f9",
   "metadata": {},
   "source": [
    "# Q2. Why *args and **kwargs is used in some functions? Create a function each for *args and **kwargs to demonstrate their use."
   ]
  },
  {
   "cell_type": "markdown",
   "id": "2087b4b8-5ef1-4a03-ae8c-448dfa6a548a",
   "metadata": {},
   "source": [
    "#Answer:\n",
    "- The special syntax *args in function definitions in Python is used to pass a variable number of arguments to a function. It is used to pass a non-keyworded, variable-length argument list. \n",
    "- The special syntax **kwargs in function definitions in Python is used to pass a keyworded, variable-length argument list i.e. arguments are in the form of key-value pair.\n"
   ]
  },
  {
   "cell_type": "code",
   "execution_count": 3,
   "id": "39c91c46-13f9-4f8e-8dbc-4742d798f408",
   "metadata": {},
   "outputs": [],
   "source": [
    "def myfun(*args,a='vidit'):\n",
    "    print(\"My name is :\", a)\n",
    "    for i in args:\n",
    "        print(\"Subject: \",i)\n",
    "    "
   ]
  },
  {
   "cell_type": "code",
   "execution_count": 4,
   "id": "87774222-6ece-4e04-8d51-9fa113ea28bd",
   "metadata": {},
   "outputs": [
    {
     "name": "stdout",
     "output_type": "stream",
     "text": [
      "My name is : vidit\n",
      "Subject:  DSA\n",
      "Subject:  CAO\n",
      "Subject:  DBMS\n",
      "Subject:  ML\n",
      "Subject:  DL\n"
     ]
    }
   ],
   "source": [
    "myfun('DSA','CAO','DBMS','ML','DL')"
   ]
  },
  {
   "cell_type": "code",
   "execution_count": 5,
   "id": "f1f8a884-2b08-42be-874b-1a3cddb8023e",
   "metadata": {},
   "outputs": [],
   "source": [
    "def myfun1(**kwargs): # stores values in key-value pair\n",
    "    return kwargs"
   ]
  },
  {
   "cell_type": "code",
   "execution_count": 6,
   "id": "b3a99e72-b81f-4fca-9511-9e7418593d66",
   "metadata": {},
   "outputs": [
    {
     "data": {
      "text/plain": [
       "{'a': [1, 2, 3, 4], 'b': 'vidit', 'c': 23.4}"
      ]
     },
     "execution_count": 6,
     "metadata": {},
     "output_type": "execute_result"
    }
   ],
   "source": [
    "myfun1(a=[1,2,3,4],b='vidit',c=23.4)"
   ]
  },
  {
   "cell_type": "code",
   "execution_count": null,
   "id": "79d38c09-4428-40ec-8a6d-1aa47b21b549",
   "metadata": {},
   "outputs": [],
   "source": []
  },
  {
   "cell_type": "markdown",
   "id": "afb2b535-a313-4fdb-80cc-041ff0c82766",
   "metadata": {},
   "source": [
    "# Q3. What is an iterator in python? Name the method used to initialise the iterator object and the method used for iteration. Use these methods to print the first five elements of the given list [2, 4, 6, 8, 10, 12, 14,\n",
    "16, 18, 20]."
   ]
  },
  {
   "cell_type": "markdown",
   "id": "26d8f419-d4ea-42f7-9846-2e3ff16a2e67",
   "metadata": {},
   "source": [
    "# Answer\n",
    "- iterator - Any object in which we can fetch the all the next values of the data\n",
    "- The Python iterators object is initialized using the iter() method. It uses the next() method for iteration"
   ]
  },
  {
   "cell_type": "code",
   "execution_count": 7,
   "id": "f148499b-7a3f-4000-9c9c-953d0aac0be6",
   "metadata": {},
   "outputs": [],
   "source": [
    "l = [2,4,6,8,10,12,14,16,18,20]\n",
    "l1 = iter(l)"
   ]
  },
  {
   "cell_type": "code",
   "execution_count": 8,
   "id": "9a23cf08-51ab-48f3-abec-f77fd095fe88",
   "metadata": {},
   "outputs": [
    {
     "data": {
      "text/plain": [
       "2"
      ]
     },
     "execution_count": 8,
     "metadata": {},
     "output_type": "execute_result"
    }
   ],
   "source": [
    "next(l1)"
   ]
  },
  {
   "cell_type": "code",
   "execution_count": 9,
   "id": "4ead4461-6c2f-423d-bbc6-7a553e316085",
   "metadata": {},
   "outputs": [
    {
     "data": {
      "text/plain": [
       "4"
      ]
     },
     "execution_count": 9,
     "metadata": {},
     "output_type": "execute_result"
    }
   ],
   "source": [
    "next(l1)"
   ]
  },
  {
   "cell_type": "code",
   "execution_count": 10,
   "id": "942bc6d0-b5ba-402b-985d-2edd212565ea",
   "metadata": {},
   "outputs": [
    {
     "data": {
      "text/plain": [
       "6"
      ]
     },
     "execution_count": 10,
     "metadata": {},
     "output_type": "execute_result"
    }
   ],
   "source": [
    "next(l1)"
   ]
  },
  {
   "cell_type": "code",
   "execution_count": 11,
   "id": "7c9902b2-50fa-4e76-a48c-fd81c72e3fa8",
   "metadata": {},
   "outputs": [
    {
     "data": {
      "text/plain": [
       "8"
      ]
     },
     "execution_count": 11,
     "metadata": {},
     "output_type": "execute_result"
    }
   ],
   "source": [
    "next(l1)"
   ]
  },
  {
   "cell_type": "code",
   "execution_count": 12,
   "id": "25fa63fc-35ee-4cf9-a112-e53909d200e6",
   "metadata": {},
   "outputs": [
    {
     "data": {
      "text/plain": [
       "10"
      ]
     },
     "execution_count": 12,
     "metadata": {},
     "output_type": "execute_result"
    }
   ],
   "source": [
    "next(l1)"
   ]
  },
  {
   "cell_type": "code",
   "execution_count": null,
   "id": "9b6b8e4e-404a-4890-b2eb-5e59debd2573",
   "metadata": {},
   "outputs": [],
   "source": []
  },
  {
   "cell_type": "markdown",
   "id": "2b5e8020-c83d-41e1-bee5-b05205fd2b85",
   "metadata": {},
   "source": [
    "# Q4. What is a generator function in python? Why yield keyword is used? Give an example of a generator function."
   ]
  },
  {
   "cell_type": "markdown",
   "id": "ab1c0451-8b0b-45f3-ba06-9f48070537ce",
   "metadata": {},
   "source": [
    "# Answer\n",
    "- A generator function in Python is defined like a normal function, but whenever it needs to generate a value, it does so with the yield keyword rather than return.\n",
    "- Generator function can be used to optimize the memory consumption\n",
    "- the generator function gives the output one by one without holding thethe values in the memory.\n",
    "- the yield keyword will convert an expression that is specified along with it to a generator object and return it to the caller. Hence, if you want to get the values stored inside the generator object, you need to iterate over it."
   ]
  },
  {
   "cell_type": "code",
   "execution_count": 13,
   "id": "0ea8525c-fdff-4de4-84ad-791b19e6f326",
   "metadata": {},
   "outputs": [],
   "source": [
    "# example of a generator function:\n",
    "def test_fib(n):\n",
    "    a,b=0,1\n",
    "    for i in range(n):\n",
    "        yield a\n",
    "        a,b=b,a+b"
   ]
  },
  {
   "cell_type": "code",
   "execution_count": 14,
   "id": "c2911bde-1a28-402b-a6ce-4d334d5298e0",
   "metadata": {},
   "outputs": [
    {
     "name": "stdout",
     "output_type": "stream",
     "text": [
      "0\n",
      "1\n",
      "1\n",
      "2\n",
      "3\n",
      "5\n",
      "8\n",
      "13\n",
      "21\n",
      "34\n"
     ]
    }
   ],
   "source": [
    "for i in test_fib(10):\n",
    "    print(i)"
   ]
  },
  {
   "cell_type": "code",
   "execution_count": null,
   "id": "98bb654c-a666-45ba-8079-beacefaad1cf",
   "metadata": {},
   "outputs": [],
   "source": []
  },
  {
   "cell_type": "markdown",
   "id": "71f49501-2da1-4c30-9007-6c3112ca1002",
   "metadata": {},
   "source": [
    "# Q5. Create a generator function for prime numbers less than 1000. Use the next() method to print the first 20 prime numbers."
   ]
  },
  {
   "cell_type": "code",
   "execution_count": 15,
   "id": "8368c43a-2c1b-4baa-850c-6a335444c398",
   "metadata": {},
   "outputs": [],
   "source": [
    "def prime(n):\n",
    "    a=2\n",
    "    for i in range(2,n):\n",
    "        yield a\n",
    "    \n",
    "    "
   ]
  },
  {
   "cell_type": "code",
   "execution_count": 16,
   "id": "35a9c033-cb38-4d80-beee-08fdc8a5c6fb",
   "metadata": {},
   "outputs": [],
   "source": [
    "def is_prime_num(n):\n",
    "    # Check if the number is prime\n",
    "    if n < 2:\n",
    "        return False\n",
    "    for i in range(2, int(n ** 0.5) + 1):\n",
    "        if n % i == 0:\n",
    "            return False\n",
    "    return True\n",
    "\n",
    "def prime_numbers(start, end):\n",
    "    # Generate prime numbers between start and end\n",
    "    for num in range(start, end + 1):\n",
    "        if is_prime_num(num):\n",
    "            yield num"
   ]
  },
  {
   "cell_type": "code",
   "execution_count": null,
   "id": "a1777152-36f6-4df0-98e9-82521485edbd",
   "metadata": {},
   "outputs": [],
   "source": []
  },
  {
   "cell_type": "code",
   "execution_count": 17,
   "id": "cf0feb13-210c-4dfe-bd42-4916715d9a44",
   "metadata": {},
   "outputs": [
    {
     "name": "stdout",
     "output_type": "stream",
     "text": [
      "2\n",
      "3\n",
      "5\n",
      "7\n",
      "11\n",
      "13\n",
      "17\n",
      "19\n",
      "23\n",
      "29\n",
      "31\n",
      "37\n",
      "41\n",
      "43\n",
      "47\n",
      "53\n",
      "59\n",
      "61\n",
      "67\n",
      "71\n",
      "73\n",
      "79\n",
      "83\n",
      "89\n",
      "97\n",
      "101\n",
      "103\n",
      "107\n",
      "109\n",
      "113\n",
      "127\n",
      "131\n",
      "137\n",
      "139\n",
      "149\n",
      "151\n",
      "157\n",
      "163\n",
      "167\n",
      "173\n",
      "179\n",
      "181\n",
      "191\n",
      "193\n",
      "197\n",
      "199\n",
      "211\n",
      "223\n",
      "227\n",
      "229\n",
      "233\n",
      "239\n",
      "241\n",
      "251\n",
      "257\n",
      "263\n",
      "269\n",
      "271\n",
      "277\n",
      "281\n",
      "283\n",
      "293\n",
      "307\n",
      "311\n",
      "313\n",
      "317\n",
      "331\n",
      "337\n",
      "347\n",
      "349\n",
      "353\n",
      "359\n",
      "367\n",
      "373\n",
      "379\n",
      "383\n",
      "389\n",
      "397\n",
      "401\n",
      "409\n",
      "419\n",
      "421\n",
      "431\n",
      "433\n",
      "439\n",
      "443\n",
      "449\n",
      "457\n",
      "461\n",
      "463\n",
      "467\n",
      "479\n",
      "487\n",
      "491\n",
      "499\n",
      "503\n",
      "509\n",
      "521\n",
      "523\n",
      "541\n",
      "547\n",
      "557\n",
      "563\n",
      "569\n",
      "571\n",
      "577\n",
      "587\n",
      "593\n",
      "599\n",
      "601\n",
      "607\n",
      "613\n",
      "617\n",
      "619\n",
      "631\n",
      "641\n",
      "643\n",
      "647\n",
      "653\n",
      "659\n",
      "661\n",
      "673\n",
      "677\n",
      "683\n",
      "691\n",
      "701\n",
      "709\n",
      "719\n",
      "727\n",
      "733\n",
      "739\n",
      "743\n",
      "751\n",
      "757\n",
      "761\n",
      "769\n",
      "773\n",
      "787\n",
      "797\n",
      "809\n",
      "811\n",
      "821\n",
      "823\n",
      "827\n",
      "829\n",
      "839\n",
      "853\n",
      "857\n",
      "859\n",
      "863\n",
      "877\n",
      "881\n",
      "883\n",
      "887\n",
      "907\n",
      "911\n",
      "919\n",
      "929\n",
      "937\n",
      "941\n",
      "947\n",
      "953\n",
      "967\n",
      "971\n",
      "977\n",
      "983\n",
      "991\n",
      "997\n"
     ]
    }
   ],
   "source": [
    "for i in prime_numbers(2,1000):\n",
    "    print(i)"
   ]
  },
  {
   "cell_type": "code",
   "execution_count": 18,
   "id": "cf7cc28d-022d-4fd7-8565-22b4b6cde117",
   "metadata": {},
   "outputs": [],
   "source": [
    "pm = prime_numbers(2,1000)"
   ]
  },
  {
   "cell_type": "code",
   "execution_count": 19,
   "id": "0cfe4ec5-10db-4243-99b9-fdde09922dea",
   "metadata": {},
   "outputs": [
    {
     "name": "stdout",
     "output_type": "stream",
     "text": [
      "2\n",
      "3\n",
      "5\n",
      "7\n",
      "11\n",
      "13\n",
      "17\n",
      "19\n",
      "23\n",
      "29\n",
      "31\n",
      "37\n",
      "41\n",
      "43\n",
      "47\n",
      "53\n",
      "59\n",
      "61\n"
     ]
    }
   ],
   "source": [
    "# First 20 prime numbers:\n",
    "for i in range(2,20): \n",
    "    print(next(pm))"
   ]
  },
  {
   "cell_type": "markdown",
   "id": "057bc3a7-c0aa-4adf-a8b6-2b230c537d0e",
   "metadata": {},
   "source": [
    "# Q6. Write a python program to print the first 10 Fibonacci numbers using a while loop."
   ]
  },
  {
   "cell_type": "code",
   "execution_count": 20,
   "id": "77a55c64-ebd3-43eb-8f8f-a686e992e956",
   "metadata": {},
   "outputs": [],
   "source": [
    "def test_fib():\n",
    "    a,b=0,1\n",
    "    while True:\n",
    "        yield a\n",
    "        a,b=b,a+b\n",
    "    "
   ]
  },
  {
   "cell_type": "code",
   "execution_count": 21,
   "id": "dcd3e053-906e-4c96-9a4f-6e44245d547f",
   "metadata": {},
   "outputs": [],
   "source": [
    "fib = test_fib()"
   ]
  },
  {
   "cell_type": "code",
   "execution_count": 22,
   "id": "49ad9e20-9ecd-41ed-adfb-8e607aab6cd9",
   "metadata": {},
   "outputs": [
    {
     "name": "stdout",
     "output_type": "stream",
     "text": [
      "0\n",
      "1\n",
      "1\n",
      "2\n",
      "3\n",
      "5\n",
      "8\n",
      "13\n",
      "21\n",
      "34\n"
     ]
    }
   ],
   "source": [
    "for i in range(10):\n",
    "    print(next(fib))"
   ]
  },
  {
   "cell_type": "code",
   "execution_count": null,
   "id": "67aa76f7-5372-49de-a9c6-1697843f0d80",
   "metadata": {},
   "outputs": [],
   "source": []
  },
  {
   "cell_type": "markdown",
   "id": "9c43258e-6c68-4004-aab4-3e2a8dbe5aad",
   "metadata": {},
   "source": [
    "# Q7. Write a List Comprehension to iterate through the given string: ‘pwskills’. Expected output: ['p', 'w', 's', 'k', 'i', 'l', 'l', 's']"
   ]
  },
  {
   "cell_type": "code",
   "execution_count": 23,
   "id": "47353670-d5c9-4167-9a34-2f1a1183570a",
   "metadata": {},
   "outputs": [
    {
     "name": "stdout",
     "output_type": "stream",
     "text": [
      "['p', 'w', 's', 'k', 'i', 'l', 'l', 's']\n"
     ]
    }
   ],
   "source": [
    "# Using list comprehension to iterate through loop\n",
    "List = [character for character in 'pwskills']\n",
    "\n",
    "# Displaying list\n",
    "print(List)\n"
   ]
  },
  {
   "cell_type": "code",
   "execution_count": null,
   "id": "64df626c-63b7-4751-ac84-ee1eb3939bf3",
   "metadata": {},
   "outputs": [],
   "source": []
  },
  {
   "cell_type": "markdown",
   "id": "bec5eb4a-0413-446f-b8e4-a7b0901fff1e",
   "metadata": {},
   "source": [
    "# Q8. Write a python program to check whether a given number is Palindrome or not using a while loop."
   ]
  },
  {
   "cell_type": "code",
   "execution_count": 29,
   "id": "5dcc162d-924b-4853-bd6e-96e4176ce73a",
   "metadata": {},
   "outputs": [
    {
     "name": "stdout",
     "output_type": "stream",
     "text": [
      "Number is a palindrome\n"
     ]
    }
   ],
   "source": [
    "number = 121\n",
    "temp = number\n",
    "reverse = 0\n",
    "\n",
    "while(number>0):\n",
    "    dig = number%10\n",
    "    reverse = reverse*10+dig\n",
    "    number = number//10\n",
    "if temp==reverse:\n",
    "    print(\"Number is a palindrome\")\n",
    "else:\n",
    "    print(\"Number is not a palindrome.\")\n"
   ]
  },
  {
   "cell_type": "code",
   "execution_count": null,
   "id": "31cb8344-3b7a-4179-be8f-7f1c6f9f06c9",
   "metadata": {},
   "outputs": [],
   "source": []
  },
  {
   "cell_type": "markdown",
   "id": "c9a64303-08fa-4c86-abe3-e40eea46388a",
   "metadata": {},
   "source": [
    "# Q9. Write a code to print odd numbers from 1 to 100 using list comprehension.\n",
    "Note: Use a list comprehension to create a list from 1 to 100 and use another List comprehension to filter\n",
    "out odd numbers."
   ]
  },
  {
   "cell_type": "code",
   "execution_count": 25,
   "id": "895cf9e0-be98-48f4-96f2-69e8351dc94e",
   "metadata": {},
   "outputs": [
    {
     "name": "stdout",
     "output_type": "stream",
     "text": [
      "[1, 2, 3, 4, 5, 6, 7, 8, 9, 10, 11, 12, 13, 14, 15, 16, 17, 18, 19, 20, 21, 22, 23, 24, 25, 26, 27, 28, 29, 30, 31, 32, 33, 34, 35, 36, 37, 38, 39, 40, 41, 42, 43, 44, 45, 46, 47, 48, 49, 50, 51, 52, 53, 54, 55, 56, 57, 58, 59, 60, 61, 62, 63, 64, 65, 66, 67, 68, 69, 70, 71, 72, 73, 74, 75, 76, 77, 78, 79, 80, 81, 82, 83, 84, 85, 86, 87, 88, 89, 90, 91, 92, 93, 94, 95, 96, 97, 98, 99]\n"
     ]
    }
   ],
   "source": [
    "List = [character for character in range(1,100)]\n",
    "\n",
    "# Displaying list\n",
    "print(List)"
   ]
  },
  {
   "cell_type": "code",
   "execution_count": 26,
   "id": "1590542d-7102-4ee6-be7d-382f639d2513",
   "metadata": {},
   "outputs": [
    {
     "data": {
      "text/plain": [
       "[1,\n",
       " 3,\n",
       " 5,\n",
       " 7,\n",
       " 9,\n",
       " 11,\n",
       " 13,\n",
       " 15,\n",
       " 17,\n",
       " 19,\n",
       " 21,\n",
       " 23,\n",
       " 25,\n",
       " 27,\n",
       " 29,\n",
       " 31,\n",
       " 33,\n",
       " 35,\n",
       " 37,\n",
       " 39,\n",
       " 41,\n",
       " 43,\n",
       " 45,\n",
       " 47,\n",
       " 49,\n",
       " 51,\n",
       " 53,\n",
       " 55,\n",
       " 57,\n",
       " 59,\n",
       " 61,\n",
       " 63,\n",
       " 65,\n",
       " 67,\n",
       " 69,\n",
       " 71,\n",
       " 73,\n",
       " 75,\n",
       " 77,\n",
       " 79,\n",
       " 81,\n",
       " 83,\n",
       " 85,\n",
       " 87,\n",
       " 89,\n",
       " 91,\n",
       " 93,\n",
       " 95,\n",
       " 97,\n",
       " 99]"
      ]
     },
     "execution_count": 26,
     "metadata": {},
     "output_type": "execute_result"
    }
   ],
   "source": [
    "list(filter(lambda x: x%2!=0 ,List))"
   ]
  },
  {
   "cell_type": "code",
   "execution_count": null,
   "id": "231173dc-42c9-404c-9786-7a0f4366e932",
   "metadata": {},
   "outputs": [],
   "source": []
  }
 ],
 "metadata": {
  "kernelspec": {
   "display_name": "Python 3 (ipykernel)",
   "language": "python",
   "name": "python3"
  },
  "language_info": {
   "codemirror_mode": {
    "name": "ipython",
    "version": 3
   },
   "file_extension": ".py",
   "mimetype": "text/x-python",
   "name": "python",
   "nbconvert_exporter": "python",
   "pygments_lexer": "ipython3",
   "version": "3.10.8"
  }
 },
 "nbformat": 4,
 "nbformat_minor": 5
}
